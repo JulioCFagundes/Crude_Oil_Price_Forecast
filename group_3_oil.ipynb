{
 "cells": [
  {
   "cell_type": "code",
   "execution_count": 1,
   "metadata": {},
   "outputs": [],
   "source": [
    "import pandas as pd"
   ]
  },
  {
   "cell_type": "code",
   "execution_count": 2,
   "metadata": {},
   "outputs": [
    {
     "data": {
      "text/html": [
       "<div>\n",
       "<style scoped>\n",
       "    .dataframe tbody tr th:only-of-type {\n",
       "        vertical-align: middle;\n",
       "    }\n",
       "\n",
       "    .dataframe tbody tr th {\n",
       "        vertical-align: top;\n",
       "    }\n",
       "\n",
       "    .dataframe thead th {\n",
       "        text-align: right;\n",
       "    }\n",
       "</style>\n",
       "<table border=\"1\" class=\"dataframe\">\n",
       "  <thead>\n",
       "    <tr style=\"text-align: right;\">\n",
       "      <th></th>\n",
       "      <th>DATE</th>\n",
       "      <th>WPU057801</th>\n",
       "    </tr>\n",
       "  </thead>\n",
       "  <tbody>\n",
       "    <tr>\n",
       "      <th>0</th>\n",
       "      <td>2009-06-01</td>\n",
       "      <td>100.000</td>\n",
       "    </tr>\n",
       "    <tr>\n",
       "      <th>1</th>\n",
       "      <td>2009-07-01</td>\n",
       "      <td>105.500</td>\n",
       "    </tr>\n",
       "    <tr>\n",
       "      <th>2</th>\n",
       "      <td>2009-08-01</td>\n",
       "      <td>128.300</td>\n",
       "    </tr>\n",
       "    <tr>\n",
       "      <th>3</th>\n",
       "      <td>2009-09-01</td>\n",
       "      <td>122.100</td>\n",
       "    </tr>\n",
       "    <tr>\n",
       "      <th>4</th>\n",
       "      <td>2009-10-01</td>\n",
       "      <td>119.900</td>\n",
       "    </tr>\n",
       "    <tr>\n",
       "      <th>...</th>\n",
       "      <td>...</td>\n",
       "      <td>...</td>\n",
       "    </tr>\n",
       "    <tr>\n",
       "      <th>159</th>\n",
       "      <td>2022-09-01</td>\n",
       "      <td>242.322</td>\n",
       "    </tr>\n",
       "    <tr>\n",
       "      <th>160</th>\n",
       "      <td>2022-10-01</td>\n",
       "      <td>235.947</td>\n",
       "    </tr>\n",
       "    <tr>\n",
       "      <th>161</th>\n",
       "      <td>2022-11-01</td>\n",
       "      <td>226.158</td>\n",
       "    </tr>\n",
       "    <tr>\n",
       "      <th>162</th>\n",
       "      <td>2022-12-01</td>\n",
       "      <td>217.545</td>\n",
       "    </tr>\n",
       "    <tr>\n",
       "      <th>163</th>\n",
       "      <td>2023-01-01</td>\n",
       "      <td>215.906</td>\n",
       "    </tr>\n",
       "  </tbody>\n",
       "</table>\n",
       "<p>164 rows × 2 columns</p>\n",
       "</div>"
      ],
      "text/plain": [
       "           DATE  WPU057801\n",
       "0    2009-06-01    100.000\n",
       "1    2009-07-01    105.500\n",
       "2    2009-08-01    128.300\n",
       "3    2009-09-01    122.100\n",
       "4    2009-10-01    119.900\n",
       "..          ...        ...\n",
       "159  2022-09-01    242.322\n",
       "160  2022-10-01    235.947\n",
       "161  2022-11-01    226.158\n",
       "162  2022-12-01    217.545\n",
       "163  2023-01-01    215.906\n",
       "\n",
       "[164 rows x 2 columns]"
      ]
     },
     "execution_count": 2,
     "metadata": {},
     "output_type": "execute_result"
    }
   ],
   "source": [
    "GTO_dataset = pd.read_csv('group_3_oil.csv')\n",
    "GTO_dataset"
   ]
  },
  {
   "attachments": {},
   "cell_type": "markdown",
   "metadata": {},
   "source": [
    "VERIFICANDO A TIPAGEM DAS COLUNAS"
   ]
  },
  {
   "cell_type": "code",
   "execution_count": 3,
   "metadata": {},
   "outputs": [
    {
     "name": "stdout",
     "output_type": "stream",
     "text": [
      "<class 'pandas.core.frame.DataFrame'>\n",
      "RangeIndex: 164 entries, 0 to 163\n",
      "Data columns (total 2 columns):\n",
      " #   Column     Non-Null Count  Dtype  \n",
      "---  ------     --------------  -----  \n",
      " 0   DATE       164 non-null    object \n",
      " 1   WPU057801  164 non-null    float64\n",
      "dtypes: float64(1), object(1)\n",
      "memory usage: 2.7+ KB\n"
     ]
    }
   ],
   "source": [
    "GTO_dataset.info()"
   ]
  },
  {
   "attachments": {},
   "cell_type": "markdown",
   "metadata": {},
   "source": [
    "NOTE QUE A COLUNA DATE ESTÁ TIPADA COMO OBJECT, MAS NÓS QUEREMOS MANIPULAR ELA COMO DATA. PORTANTO FAREMOS UMA CONVERSÃO DA COLUNA DE OBJETO PARA DATETIME."
   ]
  },
  {
   "cell_type": "code",
   "execution_count": 4,
   "metadata": {},
   "outputs": [],
   "source": [
    "GTO_dataset.DATE = pd.to_datetime(GTO_dataset.DATE)"
   ]
  },
  {
   "attachments": {},
   "cell_type": "markdown",
   "metadata": {},
   "source": [
    "VERIFICANDO SE TEMOS TODOS OS DIAS DO MÊS NO DATASET OU SOMENTE UM DIA POR MÊS"
   ]
  },
  {
   "cell_type": "code",
   "execution_count": 15,
   "metadata": {},
   "outputs": [
    {
     "data": {
      "text/plain": [
       "0     2009-06-01\n",
       "1     2009-07-01\n",
       "2     2009-08-01\n",
       "3     2009-09-01\n",
       "4     2009-10-01\n",
       "         ...    \n",
       "159   2022-09-01\n",
       "160   2022-10-01\n",
       "161   2022-11-01\n",
       "162   2022-12-01\n",
       "163   2023-01-01\n",
       "Name: DATE, Length: 164, dtype: datetime64[ns]"
      ]
     },
     "execution_count": 15,
     "metadata": {},
     "output_type": "execute_result"
    }
   ],
   "source": [
    "GTO_dataset.DATE[GTO_dataset.DATE.dt.day == 1]"
   ]
  },
  {
   "cell_type": "markdown",
   "metadata": {},
   "source": []
  }
 ],
 "metadata": {
  "kernelspec": {
   "display_name": "Python 3",
   "language": "python",
   "name": "python3"
  },
  "language_info": {
   "codemirror_mode": {
    "name": "ipython",
    "version": 3
   },
   "file_extension": ".py",
   "mimetype": "text/x-python",
   "name": "python",
   "nbconvert_exporter": "python",
   "pygments_lexer": "ipython3",
   "version": "3.11.1"
  },
  "orig_nbformat": 4,
  "vscode": {
   "interpreter": {
    "hash": "6a7ff8b0bc368a0ed862245bf872c32bbfc70b6343f6a9e9d3c8a5028676b802"
   }
  }
 },
 "nbformat": 4,
 "nbformat_minor": 2
}
